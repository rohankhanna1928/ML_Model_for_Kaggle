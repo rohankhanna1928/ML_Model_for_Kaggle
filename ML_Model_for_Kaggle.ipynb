{
  "nbformat": 4,
  "nbformat_minor": 0,
  "metadata": {
    "colab": {
      "provenance": [],
      "gpuType": "V28",
      "authorship_tag": "ABX9TyOlUCLN/nVfxazqu572aMOu",
      "include_colab_link": true
    },
    "kernelspec": {
      "name": "python3",
      "display_name": "Python 3"
    },
    "language_info": {
      "name": "python"
    },
    "accelerator": "TPU"
  },
  "cells": [
    {
      "cell_type": "markdown",
      "metadata": {
        "id": "view-in-github",
        "colab_type": "text"
      },
      "source": [
        "<a href=\"https://colab.research.google.com/github/rohankhanna1928/ML_Model_for_Kaggle/blob/main/ML_Model_for_Kaggle.ipynb\" target=\"_parent\"><img src=\"https://colab.research.google.com/assets/colab-badge.svg\" alt=\"Open In Colab\"/></a>"
      ]
    },
    {
      "cell_type": "markdown",
      "source": [
        "# **Thapar Summer School Hackathon - III**"
      ],
      "metadata": {
        "id": "1vQgbefI-5JP"
      }
    },
    {
      "cell_type": "code",
      "source": [
        "#Competition Link\n",
        "https://www.kaggle.com/competitions/thapar-summer-school-2025-hack-iii/overview"
      ],
      "metadata": {
        "id": "3eEAl5rqCkFN"
      },
      "execution_count": null,
      "outputs": []
    },
    {
      "cell_type": "code",
      "execution_count": 3,
      "metadata": {
        "id": "nQcMZ-Ax84Fb",
        "colab": {
          "base_uri": "https://localhost:8080/"
        },
        "outputId": "52894f12-c496-4ea8-ea42-9ab77923eeeb"
      },
      "outputs": [
        {
          "output_type": "stream",
          "name": "stdout",
          "text": [
            "Training R²: 0.9387\n",
            "Validation R²: 0.9225\n",
            "Submission file 'submission.csv' created successfully.\n"
          ]
        },
        {
          "output_type": "stream",
          "name": "stderr",
          "text": [
            "/tmp/ipython-input-1023142598.py:70: FutureWarning: Setting an item of incompatible dtype is deprecated and will raise in a future error of pandas. Value '[4133.13939076 3415.91077886 6404.12345385 ... 6508.04758801 5577.64622982\n",
            " 2536.55954309]' has dtype incompatible with int64, please explicitly cast to a compatible dtype first.\n",
            "  submission.iloc[:, 1] = test_preds  # Assumes 2nd column is the target\n"
          ]
        }
      ],
      "source": [
        "import pandas as pd\n",
        "from sklearn.model_selection import train_test_split\n",
        "from sklearn.preprocessing import OneHotEncoder, RobustScaler\n",
        "from sklearn.compose import ColumnTransformer\n",
        "from sklearn.ensemble import RandomForestRegressor\n",
        "from sklearn.metrics import r2_score\n",
        "from sklearn.pipeline import Pipeline\n",
        "\n",
        "# Load datasets\n",
        "train = pd.read_csv('/content/train.csv').drop_duplicates()\n",
        "test = pd.read_csv('/content/test.csv').drop_duplicates()\n",
        "sample_sub = pd.read_csv('/content/sample_submission.csv')\n",
        "\n",
        "# Separate features and target\n",
        "X = train.drop(columns=['output', 'Row#'])\n",
        "y = train['output']\n",
        "\n",
        "# Split data\n",
        "X_train, X_val, y_train, y_val = train_test_split(X, y, test_size=0.18, random_state=456, shuffle=True)\n",
        "\n",
        "# Identify feature types\n",
        "numeric_features = X.select_dtypes(include=['float64', 'int64']).columns\n",
        "categorical_features = X.select_dtypes(include=['object']).columns\n",
        "\n",
        "# Preprocessing\n",
        "preprocessor = ColumnTransformer(\n",
        "    transformers=[\n",
        "        ('num', RobustScaler(), numeric_features),\n",
        "        ('cat', OneHotEncoder(handle_unknown='ignore', drop='first'), categorical_features)\n",
        "    ]\n",
        ")\n",
        "\n",
        "# Pipeline setup\n",
        "model = Pipeline([\n",
        "    ('preprocessor', preprocessor),\n",
        "    ('regressor', RandomForestRegressor(\n",
        "        n_estimators=2500,\n",
        "        max_depth=10,\n",
        "        min_samples_split=5,\n",
        "        min_samples_leaf=4,\n",
        "        max_features=0.7,\n",
        "        bootstrap=True,\n",
        "        max_samples=0.6,\n",
        "        criterion='absolute_error',\n",
        "        random_state=42,\n",
        "        n_jobs=-1,\n",
        "        warm_start=True,\n",
        "        verbose=0\n",
        "    ))\n",
        "])\n",
        "\n",
        "# Train the model\n",
        "model.fit(X_train, y_train)\n",
        "\n",
        "# Evaluate performance\n",
        "train_preds = model.predict(X_train)\n",
        "train_r2 = r2_score(y_train, train_preds)\n",
        "print(f\"Training R²: {train_r2:.4f}\")\n",
        "\n",
        "val_preds = model.predict(X_val)\n",
        "val_r2 = r2_score(y_val, val_preds)\n",
        "print(f\"Validation R²: {val_r2:.4f}\")\n",
        "\n",
        "# Predict on test set\n",
        "test_features = test.drop(columns=['Row#'])\n",
        "test_preds = model.predict(test_features)\n",
        "\n",
        "# Prepare final submission to match sample_submission.csv\n",
        "submission = sample_sub.copy()\n",
        "submission.iloc[:, 1] = test_preds  # Assumes 2nd column is the target\n",
        "submission.to_csv('submission.csv', index=False)\n",
        "print(\"Submission file 'submission.csv' created successfully.\")"
      ]
    }
  ]
}